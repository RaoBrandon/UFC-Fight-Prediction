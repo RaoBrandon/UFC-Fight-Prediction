{
 "cells": [
  {
   "cell_type": "markdown",
   "metadata": {},
   "source": [
    "## Dataset Introduction"
   ]
  },
  {
   "cell_type": "code",
   "execution_count": 305,
   "metadata": {},
   "outputs": [],
   "source": [
    "# Importing required libraries for analysis\n",
    "import matplotlib.pyplot as plt\n",
    "import pandas as pd\n",
    "import seaborn as sns\n",
    "from sklearn.preprocessing import LabelEncoder\n",
    "from sklearn.ensemble import RandomForestClassifier\n",
    "from sklearn.feature_selection import RFE\n",
    "from sklearn.model_selection import train_test_split, GridSearchCV\n",
    "from sklearn.metrics import accuracy_score, classification_report, confusion_matrix\n",
    "from sklearn.model_selection import learning_curve\n"
   ]
  },
  {
   "cell_type": "code",
   "execution_count": 306,
   "metadata": {},
   "outputs": [
    {
     "data": {
      "text/html": [
       "<div>\n",
       "<style scoped>\n",
       "    .dataframe tbody tr th:only-of-type {\n",
       "        vertical-align: middle;\n",
       "    }\n",
       "\n",
       "    .dataframe tbody tr th {\n",
       "        vertical-align: top;\n",
       "    }\n",
       "\n",
       "    .dataframe thead th {\n",
       "        text-align: right;\n",
       "    }\n",
       "</style>\n",
       "<table border=\"1\" class=\"dataframe\">\n",
       "  <thead>\n",
       "    <tr style=\"text-align: right;\">\n",
       "      <th></th>\n",
       "      <th>RedFighter</th>\n",
       "      <th>BlueFighter</th>\n",
       "      <th>RedOdds</th>\n",
       "      <th>BlueOdds</th>\n",
       "      <th>RedExpectedValue</th>\n",
       "      <th>BlueExpectedValue</th>\n",
       "      <th>Date</th>\n",
       "      <th>Location</th>\n",
       "      <th>Country</th>\n",
       "      <th>Winner</th>\n",
       "      <th>...</th>\n",
       "      <th>FinishDetails</th>\n",
       "      <th>FinishRound</th>\n",
       "      <th>FinishRoundTime</th>\n",
       "      <th>TotalFightTimeSecs</th>\n",
       "      <th>RedDecOdds</th>\n",
       "      <th>BlueDecOdds</th>\n",
       "      <th>RSubOdds</th>\n",
       "      <th>BSubOdds</th>\n",
       "      <th>RKOOdds</th>\n",
       "      <th>BKOOdds</th>\n",
       "    </tr>\n",
       "  </thead>\n",
       "  <tbody>\n",
       "    <tr>\n",
       "      <th>0</th>\n",
       "      <td>Alexandre Pantoja</td>\n",
       "      <td>Kai Asakura</td>\n",
       "      <td>-250.0</td>\n",
       "      <td>215.0</td>\n",
       "      <td>40.0000</td>\n",
       "      <td>215.0</td>\n",
       "      <td>2024-12-07</td>\n",
       "      <td>Las Vegas, Nevada, USA</td>\n",
       "      <td>USA</td>\n",
       "      <td>Red</td>\n",
       "      <td>...</td>\n",
       "      <td>Rear Naked Choke</td>\n",
       "      <td>2.0</td>\n",
       "      <td>2:05</td>\n",
       "      <td>425.0</td>\n",
       "      <td>300.0</td>\n",
       "      <td>800.0</td>\n",
       "      <td>150.0</td>\n",
       "      <td>2500.0</td>\n",
       "      <td>400.0</td>\n",
       "      <td>350.0</td>\n",
       "    </tr>\n",
       "    <tr>\n",
       "      <th>1</th>\n",
       "      <td>Shavkat Rakhmonov</td>\n",
       "      <td>Ian Machado Garry</td>\n",
       "      <td>-210.0</td>\n",
       "      <td>295.0</td>\n",
       "      <td>47.6190</td>\n",
       "      <td>295.0</td>\n",
       "      <td>2024-12-07</td>\n",
       "      <td>Las Vegas, Nevada, USA</td>\n",
       "      <td>USA</td>\n",
       "      <td>Red</td>\n",
       "      <td>...</td>\n",
       "      <td>NaN</td>\n",
       "      <td>5.0</td>\n",
       "      <td>5:00</td>\n",
       "      <td>1500.0</td>\n",
       "      <td>250.0</td>\n",
       "      <td>650.0</td>\n",
       "      <td>180.0</td>\n",
       "      <td>3000.0</td>\n",
       "      <td>240.0</td>\n",
       "      <td>700.0</td>\n",
       "    </tr>\n",
       "    <tr>\n",
       "      <th>2</th>\n",
       "      <td>Ciryl Gane</td>\n",
       "      <td>Alexander Volkov</td>\n",
       "      <td>-380.0</td>\n",
       "      <td>300.0</td>\n",
       "      <td>26.3158</td>\n",
       "      <td>300.0</td>\n",
       "      <td>2024-12-07</td>\n",
       "      <td>Las Vegas, Nevada, USA</td>\n",
       "      <td>USA</td>\n",
       "      <td>Red</td>\n",
       "      <td>...</td>\n",
       "      <td>NaN</td>\n",
       "      <td>3.0</td>\n",
       "      <td>5:00</td>\n",
       "      <td>900.0</td>\n",
       "      <td>-160.0</td>\n",
       "      <td>450.0</td>\n",
       "      <td>1100.0</td>\n",
       "      <td>3000.0</td>\n",
       "      <td>350.0</td>\n",
       "      <td>1100.0</td>\n",
       "    </tr>\n",
       "    <tr>\n",
       "      <th>3</th>\n",
       "      <td>Bryce Mitchell</td>\n",
       "      <td>Kron Gracie</td>\n",
       "      <td>-950.0</td>\n",
       "      <td>625.0</td>\n",
       "      <td>10.5263</td>\n",
       "      <td>625.0</td>\n",
       "      <td>2024-12-07</td>\n",
       "      <td>Las Vegas, Nevada, USA</td>\n",
       "      <td>USA</td>\n",
       "      <td>Red</td>\n",
       "      <td>...</td>\n",
       "      <td>Elbows</td>\n",
       "      <td>3.0</td>\n",
       "      <td>0:39</td>\n",
       "      <td>639.0</td>\n",
       "      <td>-200.0</td>\n",
       "      <td>1100.0</td>\n",
       "      <td>380.0</td>\n",
       "      <td>1400.0</td>\n",
       "      <td>500.0</td>\n",
       "      <td>4000.0</td>\n",
       "    </tr>\n",
       "    <tr>\n",
       "      <th>4</th>\n",
       "      <td>Nate Landwehr</td>\n",
       "      <td>Dooho Choi</td>\n",
       "      <td>-130.0</td>\n",
       "      <td>110.0</td>\n",
       "      <td>76.9231</td>\n",
       "      <td>110.0</td>\n",
       "      <td>2024-12-07</td>\n",
       "      <td>Las Vegas, Nevada, USA</td>\n",
       "      <td>USA</td>\n",
       "      <td>Blue</td>\n",
       "      <td>...</td>\n",
       "      <td>Elbows</td>\n",
       "      <td>3.0</td>\n",
       "      <td>3:21</td>\n",
       "      <td>801.0</td>\n",
       "      <td>275.0</td>\n",
       "      <td>550.0</td>\n",
       "      <td>500.0</td>\n",
       "      <td>700.0</td>\n",
       "      <td>300.0</td>\n",
       "      <td>250.0</td>\n",
       "    </tr>\n",
       "  </tbody>\n",
       "</table>\n",
       "<p>5 rows × 118 columns</p>\n",
       "</div>"
      ],
      "text/plain": [
       "          RedFighter        BlueFighter  RedOdds  BlueOdds  RedExpectedValue  \\\n",
       "0  Alexandre Pantoja        Kai Asakura   -250.0     215.0           40.0000   \n",
       "1  Shavkat Rakhmonov  Ian Machado Garry   -210.0     295.0           47.6190   \n",
       "2         Ciryl Gane   Alexander Volkov   -380.0     300.0           26.3158   \n",
       "3     Bryce Mitchell        Kron Gracie   -950.0     625.0           10.5263   \n",
       "4      Nate Landwehr         Dooho Choi   -130.0     110.0           76.9231   \n",
       "\n",
       "   BlueExpectedValue        Date                Location Country Winner  ...  \\\n",
       "0              215.0  2024-12-07  Las Vegas, Nevada, USA     USA    Red  ...   \n",
       "1              295.0  2024-12-07  Las Vegas, Nevada, USA     USA    Red  ...   \n",
       "2              300.0  2024-12-07  Las Vegas, Nevada, USA     USA    Red  ...   \n",
       "3              625.0  2024-12-07  Las Vegas, Nevada, USA     USA    Red  ...   \n",
       "4              110.0  2024-12-07  Las Vegas, Nevada, USA     USA   Blue  ...   \n",
       "\n",
       "      FinishDetails FinishRound FinishRoundTime  TotalFightTimeSecs  \\\n",
       "0  Rear Naked Choke         2.0            2:05               425.0   \n",
       "1               NaN         5.0            5:00              1500.0   \n",
       "2               NaN         3.0            5:00               900.0   \n",
       "3            Elbows         3.0            0:39               639.0   \n",
       "4            Elbows         3.0            3:21               801.0   \n",
       "\n",
       "   RedDecOdds  BlueDecOdds  RSubOdds  BSubOdds  RKOOdds  BKOOdds  \n",
       "0       300.0        800.0     150.0    2500.0    400.0    350.0  \n",
       "1       250.0        650.0     180.0    3000.0    240.0    700.0  \n",
       "2      -160.0        450.0    1100.0    3000.0    350.0   1100.0  \n",
       "3      -200.0       1100.0     380.0    1400.0    500.0   4000.0  \n",
       "4       275.0        550.0     500.0     700.0    300.0    250.0  \n",
       "\n",
       "[5 rows x 118 columns]"
      ]
     },
     "execution_count": 306,
     "metadata": {},
     "output_type": "execute_result"
    }
   ],
   "source": [
    "# Read data into csv, check data\n",
    "df = pd.read_csv(\"./ufc-master.csv\")\n",
    "df.head()"
   ]
  },
  {
   "cell_type": "code",
   "execution_count": 307,
   "metadata": {},
   "outputs": [
    {
     "name": "stdout",
     "output_type": "stream",
     "text": [
      "This dataset has 6528 rows and 118 columns.\n"
     ]
    }
   ],
   "source": [
    "# Check the number of rows and columns in the dataset\n",
    "print(f\"This dataset has {df.shape[0]} rows and {df.shape[1]} columns.\")"
   ]
  },
  {
   "cell_type": "code",
   "execution_count": 308,
   "metadata": {},
   "outputs": [
    {
     "data": {
      "image/png": "[encoded data removed]",
      "text/plain": [
       "<Figure size 432x288 with 1 Axes>"
      ]
     },
     "metadata": {
      "needs_background": "light"
     },
     "output_type": "display_data"
    }
   ],
   "source": [
    "# Check red vs. blue win counts\n",
    "proportions = df['Winner'].value_counts(normalize=True)\n",
    "\n",
    "# Create a bar plot of the proportions\n",
    "sns.barplot(x=proportions.index, y=proportions.values, palette='rocket')\n",
    "\n",
    "# Customize the plot (optional)\n",
    "plt.title('Proportions of Categories')\n",
    "plt.xlabel('Category')\n",
    "plt.ylabel('Proportion')\n",
    "plt.show()"
   ]
  },
  {
   "cell_type": "markdown",
   "metadata": {},
   "source": [
    "## Data Exploration & Preprocessing"
   ]
  },
  {
   "cell_type": "markdown",
   "metadata": {},
   "source": [
    "First of all, looking at our data, we can see that our target variable \"Winner\" provides values of either \"Red\" or \"Blue\". We  will encode these as numeric vaslues - 0 for blue and 1 for red for the purpose of looking into correlation. There are many other adjustments to make for the data, but for now we will start with a simple correlation analysis."
   ]
  },
  {
   "cell_type": "code",
   "execution_count": 309,
   "metadata": {},
   "outputs": [],
   "source": [
    "# Efficiently converting the winner column to a boolean, which is casted to int\n",
    "df['Winner'] = (df['Winner'] == 'Blue').astype(int)"
   ]
  },
  {
   "cell_type": "code",
   "execution_count": 310,
   "metadata": {},
   "outputs": [],
   "source": [
    "# Adjust pandas display settings to show all rows without truncation\n",
    "pd.set_option('display.max_rows', None)  # Show all rows\n",
    "pd.set_option('display.width', None)     # Prevent line wrapping\n",
    "pd.set_option('display.max_colwidth', None)  # Show full content of each cell"
   ]
  },
  {
   "cell_type": "code",
   "execution_count": 311,
   "metadata": {},
   "outputs": [
    {
     "data": {
      "image/png": "[encoded data removed]",
      "text/plain": [
       "<Figure size 432x288 with 1 Axes>"
      ]
     },
     "metadata": {
      "needs_background": "light"
     },
     "output_type": "display_data"
    }
   ],
   "source": [
    "# Including only the numeric columns to check our correlation\n",
    "numeric_df = df.select_dtypes(include=['number'])\n",
    "winner_correlation = numeric_df.corr()['Winner'].sort_values(ascending=False)\n",
    "\n",
    "# Plot the correlation in descending order\n",
    "sns.barplot(x=winner_correlation.drop('Winner').head(10).index, y=winner_correlation.drop('Winner').head(10).values, palette='rocket')\n",
    "plt.title('Descending Count of Category Column')\n",
    "plt.xlabel('Category')\n",
    "plt.ylabel('Count')\n",
    "plt.xticks(rotation=45)\n",
    "plt.show()"
   ]
  },
  {
   "cell_type": "markdown",
   "metadata": {},
   "source": [
    "### NaN Handling"
   ]
  },
  {
   "cell_type": "markdown",
   "metadata": {},
   "source": [
    "There are frequent NaN values that need to be handled in order to implement most machine learning algorithms. We will continue to address these and more in this section. To start, we will remove rows with null values > 50%."
   ]
  },
  {
   "cell_type": "code",
   "execution_count": 312,
   "metadata": {},
   "outputs": [
    {
     "data": {
      "text/plain": [
       "Index(['BMatchWCRank', 'RMatchWCRank', 'RWFlyweightRank',\n",
       "       'RWFeatherweightRank', 'RWStrawweightRank', 'RWBantamweightRank',\n",
       "       'RHeavyweightRank', 'RLightHeavyweightRank', 'RMiddleweightRank',\n",
       "       'RWelterweightRank', 'RLightweightRank', 'RFeatherweightRank',\n",
       "       'RBantamweightRank', 'RFlyweightRank', 'RPFPRank', 'BWFlyweightRank',\n",
       "       'BWFeatherweightRank', 'BWStrawweightRank', 'BWBantamweightRank',\n",
       "       'BHeavyweightRank', 'BLightHeavyweightRank', 'BMiddleweightRank',\n",
       "       'BWelterweightRank', 'BLightweightRank', 'BFeatherweightRank',\n",
       "       'BBantamweightRank', 'BFlyweightRank', 'BPFPRank', 'FinishDetails'],\n",
       "      dtype='object')"
      ]
     },
     "execution_count": 312,
     "metadata": {},
     "output_type": "execute_result"
    }
   ],
   "source": [
    "# Calculate the proportion of null values for each column\n",
    "null_proportions = df.isna().mean()\n",
    "\n",
    "# Filter out columns with null proportions > 50%\n",
    "filtered_data = df.loc[:, null_proportions <= 0.5]\n",
    "\n",
    "# Double checking removed columns\n",
    "removed_data = df.loc[:, null_proportions > 0.5]\n",
    "removed_data.columns"
   ]
  },
  {
   "cell_type": "markdown",
   "metadata": {},
   "source": [
    "Looking at the above, it seems that the majority of values getting caught by our filter are the ranking values. In MMA, many competitors are unranked as the UFC only tracks the top 15 for each division. Let us double check our hypothesis by reviewing the max value for these columns."
   ]
  },
  {
   "cell_type": "code",
   "execution_count": 313,
   "metadata": {},
   "outputs": [
    {
     "data": {
      "text/plain": [
       "BMatchWCRank             15.0\n",
       "RMatchWCRank             15.0\n",
       "RWFlyweightRank          15.0\n",
       "RWFeatherweightRank       0.0\n",
       "RWStrawweightRank        15.0\n",
       "RWBantamweightRank       15.0\n",
       "RHeavyweightRank         15.0\n",
       "RLightHeavyweightRank    15.0\n",
       "RMiddleweightRank        15.0\n",
       "RWelterweightRank        15.0\n",
       "RLightweightRank         15.0\n",
       "RFeatherweightRank       15.0\n",
       "RBantamweightRank        15.0\n",
       "RFlyweightRank           15.0\n",
       "RPFPRank                 15.0\n",
       "BWFlyweightRank          15.0\n",
       "BWFeatherweightRank       0.0\n",
       "BWStrawweightRank        15.0\n",
       "BWBantamweightRank       15.0\n",
       "BHeavyweightRank         15.0\n",
       "BLightHeavyweightRank    15.0\n",
       "BMiddleweightRank        15.0\n",
       "BWelterweightRank        15.0\n",
       "BLightweightRank         15.0\n",
       "BFeatherweightRank       15.0\n",
       "BBantamweightRank        15.0\n",
       "BFlyweightRank           15.0\n",
       "BPFPRank                 15.0\n",
       "dtype: float64"
      ]
     },
     "execution_count": 313,
     "metadata": {},
     "output_type": "execute_result"
    }
   ],
   "source": [
    "# Checking the values for our filtered out columns\n",
    "removed_data.max()"
   ]
  },
  {
   "cell_type": "code",
   "execution_count": 314,
   "metadata": {},
   "outputs": [
    {
     "data": {
      "text/html": [
       "<div>\n",
       "<style scoped>\n",
       "    .dataframe tbody tr th:only-of-type {\n",
       "        vertical-align: middle;\n",
       "    }\n",
       "\n",
       "    .dataframe tbody tr th {\n",
       "        vertical-align: top;\n",
       "    }\n",
       "\n",
       "    .dataframe thead th {\n",
       "        text-align: right;\n",
       "    }\n",
       "</style>\n",
       "<table border=\"1\" class=\"dataframe\">\n",
       "  <thead>\n",
       "    <tr style=\"text-align: right;\">\n",
       "      <th></th>\n",
       "      <th>RedFighter</th>\n",
       "      <th>BlueFighter</th>\n",
       "      <th>BMatchWCRank</th>\n",
       "      <th>RMatchWCRank</th>\n",
       "      <th>RWFlyweightRank</th>\n",
       "      <th>RWFeatherweightRank</th>\n",
       "      <th>RWStrawweightRank</th>\n",
       "      <th>RWBantamweightRank</th>\n",
       "      <th>RHeavyweightRank</th>\n",
       "      <th>RLightHeavyweightRank</th>\n",
       "      <th>...</th>\n",
       "      <th>BHeavyweightRank</th>\n",
       "      <th>BLightHeavyweightRank</th>\n",
       "      <th>BMiddleweightRank</th>\n",
       "      <th>BWelterweightRank</th>\n",
       "      <th>BLightweightRank</th>\n",
       "      <th>BFeatherweightRank</th>\n",
       "      <th>BBantamweightRank</th>\n",
       "      <th>BFlyweightRank</th>\n",
       "      <th>BPFPRank</th>\n",
       "      <th>FinishDetails</th>\n",
       "    </tr>\n",
       "  </thead>\n",
       "  <tbody>\n",
       "    <tr>\n",
       "      <th>0</th>\n",
       "      <td>Alexandre Pantoja</td>\n",
       "      <td>Kai Asakura</td>\n",
       "      <td>NaN</td>\n",
       "      <td>0.0</td>\n",
       "      <td>NaN</td>\n",
       "      <td>NaN</td>\n",
       "      <td>NaN</td>\n",
       "      <td>NaN</td>\n",
       "      <td>NaN</td>\n",
       "      <td>NaN</td>\n",
       "      <td>...</td>\n",
       "      <td>NaN</td>\n",
       "      <td>NaN</td>\n",
       "      <td>NaN</td>\n",
       "      <td>NaN</td>\n",
       "      <td>NaN</td>\n",
       "      <td>NaN</td>\n",
       "      <td>NaN</td>\n",
       "      <td>NaN</td>\n",
       "      <td>NaN</td>\n",
       "      <td>Rear Naked Choke</td>\n",
       "    </tr>\n",
       "    <tr>\n",
       "      <th>1</th>\n",
       "      <td>Shavkat Rakhmonov</td>\n",
       "      <td>Ian Machado Garry</td>\n",
       "      <td>7.0</td>\n",
       "      <td>3.0</td>\n",
       "      <td>NaN</td>\n",
       "      <td>NaN</td>\n",
       "      <td>NaN</td>\n",
       "      <td>NaN</td>\n",
       "      <td>NaN</td>\n",
       "      <td>NaN</td>\n",
       "      <td>...</td>\n",
       "      <td>NaN</td>\n",
       "      <td>NaN</td>\n",
       "      <td>NaN</td>\n",
       "      <td>7.0</td>\n",
       "      <td>NaN</td>\n",
       "      <td>NaN</td>\n",
       "      <td>NaN</td>\n",
       "      <td>NaN</td>\n",
       "      <td>NaN</td>\n",
       "      <td>NaN</td>\n",
       "    </tr>\n",
       "    <tr>\n",
       "      <th>2</th>\n",
       "      <td>Ciryl Gane</td>\n",
       "      <td>Alexander Volkov</td>\n",
       "      <td>3.0</td>\n",
       "      <td>2.0</td>\n",
       "      <td>NaN</td>\n",
       "      <td>NaN</td>\n",
       "      <td>NaN</td>\n",
       "      <td>NaN</td>\n",
       "      <td>2.0</td>\n",
       "      <td>NaN</td>\n",
       "      <td>...</td>\n",
       "      <td>3.0</td>\n",
       "      <td>NaN</td>\n",
       "      <td>NaN</td>\n",
       "      <td>NaN</td>\n",
       "      <td>NaN</td>\n",
       "      <td>NaN</td>\n",
       "      <td>NaN</td>\n",
       "      <td>NaN</td>\n",
       "      <td>NaN</td>\n",
       "      <td>NaN</td>\n",
       "    </tr>\n",
       "  </tbody>\n",
       "</table>\n",
       "<p>3 rows × 31 columns</p>\n",
       "</div>"
      ],
      "text/plain": [
       "          RedFighter        BlueFighter  BMatchWCRank  RMatchWCRank  \\\n",
       "0  Alexandre Pantoja        Kai Asakura           NaN           0.0   \n",
       "1  Shavkat Rakhmonov  Ian Machado Garry           7.0           3.0   \n",
       "2         Ciryl Gane   Alexander Volkov           3.0           2.0   \n",
       "\n",
       "   RWFlyweightRank  RWFeatherweightRank  RWStrawweightRank  \\\n",
       "0              NaN                  NaN                NaN   \n",
       "1              NaN                  NaN                NaN   \n",
       "2              NaN                  NaN                NaN   \n",
       "\n",
       "   RWBantamweightRank  RHeavyweightRank  RLightHeavyweightRank  ...  \\\n",
       "0                 NaN               NaN                    NaN  ...   \n",
       "1                 NaN               NaN                    NaN  ...   \n",
       "2                 NaN               2.0                    NaN  ...   \n",
       "\n",
       "   BHeavyweightRank  BLightHeavyweightRank  BMiddleweightRank  \\\n",
       "0               NaN                    NaN                NaN   \n",
       "1               NaN                    NaN                NaN   \n",
       "2               3.0                    NaN                NaN   \n",
       "\n",
       "   BWelterweightRank  BLightweightRank  BFeatherweightRank  BBantamweightRank  \\\n",
       "0                NaN               NaN                 NaN                NaN   \n",
       "1                7.0               NaN                 NaN                NaN   \n",
       "2                NaN               NaN                 NaN                NaN   \n",
       "\n",
       "   BFlyweightRank  BPFPRank     FinishDetails  \n",
       "0             NaN       NaN  Rear Naked Choke  \n",
       "1             NaN       NaN               NaN  \n",
       "2             NaN       NaN               NaN  \n",
       "\n",
       "[3 rows x 31 columns]"
      ]
     },
     "execution_count": 314,
     "metadata": {},
     "output_type": "execute_result"
    }
   ],
   "source": [
    "# Spot check data to validate ranking behaviors\n",
    "check = df[df[removed_data.columns].isna().any(axis=1)].head(3)\n",
    "cols_of_interest = ['RedFighter', 'BlueFighter'] + list(removed_data.columns)\n",
    "check[cols_of_interest]"
   ]
  },
  {
   "cell_type": "markdown",
   "metadata": {},
   "source": [
    "Looks like our hypothesis is correct. Furthermore, based on our spot check, we can also see that fighters that do not fight in other weight classes are not ranked in those weight classes (which makes sense).\n",
    "\n",
    "Rather than allowing these NaN values to be filtered, let us instead reformat them to be ranked as 99 - a high number that identifies unranked fighters but allows us to handle these as numeric values."
   ]
  },
  {
   "cell_type": "code",
   "execution_count": 315,
   "metadata": {},
   "outputs": [
    {
     "data": {
      "text/plain": [
       "Index(['BMatchWCRank', 'RMatchWCRank', 'RWFlyweightRank',\n",
       "       'RWFeatherweightRank', 'RWStrawweightRank', 'RWBantamweightRank',\n",
       "       'RHeavyweightRank', 'RLightHeavyweightRank', 'RMiddleweightRank',\n",
       "       'RWelterweightRank', 'RLightweightRank', 'RFeatherweightRank',\n",
       "       'RBantamweightRank', 'RFlyweightRank', 'RPFPRank', 'BWFlyweightRank',\n",
       "       'BWFeatherweightRank', 'BWStrawweightRank', 'BWBantamweightRank',\n",
       "       'BHeavyweightRank', 'BLightHeavyweightRank', 'BMiddleweightRank',\n",
       "       'BWelterweightRank', 'BLightweightRank', 'BFeatherweightRank',\n",
       "       'BBantamweightRank', 'BFlyweightRank', 'BPFPRank', 'BetterRank'],\n",
       "      dtype='object')"
      ]
     },
     "execution_count": 315,
     "metadata": {},
     "output_type": "execute_result"
    }
   ],
   "source": [
    "df.filter(like='Rank').columns"
   ]
  },
  {
   "cell_type": "code",
   "execution_count": 316,
   "metadata": {},
   "outputs": [
    {
     "data": {
      "text/plain": [
       "FinishDetails          0.556985\n",
       "EmptyArena             0.227635\n",
       "BKOOdds                0.208333\n",
       "BSubOdds               0.208180\n",
       "RSubOdds               0.204657\n",
       "RKOOdds                0.204350\n",
       "BlueDecOdds            0.170956\n",
       "RedDecOdds             0.166513\n",
       "BlueAvgSigStrLanded    0.142463\n",
       "BlueAvgTDPct           0.128983\n",
       "dtype: float64"
      ]
     },
     "execution_count": 316,
     "metadata": {},
     "output_type": "execute_result"
    }
   ],
   "source": [
    "# Fill nulls for all columns that are rank based, excluding BetterRank, which identifies Blue or Red\n",
    "rank_columns = [col for col in df.filter(like='Rank').columns if col != 'BetterRank']\n",
    "df[rank_columns] = df[rank_columns].fillna(99)\n",
    "\n",
    "# Once complete, check null percentages again\n",
    "df.isna().mean().sort_values(ascending=False).head(10)"
   ]
  },
  {
   "cell_type": "markdown",
   "metadata": {},
   "source": [
    "Our encoding is a major success, the remaining data in our dataframe only contains one more column with a high proportion of null values. Luckily, this also makes sense. The remaining column with a 56% null rate is our 'FinishDetails' column. Using the exploration of our metadata thus far, we can safely assume that fights that do not end in a finish, or are missing details are marked as NaN for that fight.\n",
    "\n",
    "Based on this fact, let us simply mark NaN values for FinishDetails as \"Unknown\"."
   ]
  },
  {
   "cell_type": "code",
   "execution_count": 317,
   "metadata": {},
   "outputs": [
    {
     "data": {
      "text/plain": [
       "EmptyArena             0.227635\n",
       "BKOOdds                0.208333\n",
       "BSubOdds               0.208180\n",
       "RSubOdds               0.204657\n",
       "RKOOdds                0.204350\n",
       "BlueDecOdds            0.170956\n",
       "RedDecOdds             0.166513\n",
       "BlueAvgSigStrLanded    0.142463\n",
       "BlueAvgTDPct           0.128983\n",
       "BlueAvgTDLanded        0.127604\n",
       "dtype: float64"
      ]
     },
     "execution_count": 317,
     "metadata": {},
     "output_type": "execute_result"
    }
   ],
   "source": [
    "# Fill nulls for finish details column to be unknown\n",
    "df['FinishDetails'] = df['FinishDetails'].fillna('Unknown')\n",
    "\n",
    "# Perform a final check on our null proportions\n",
    "df.isna().mean().sort_values(ascending=False).head(10)"
   ]
  },
  {
   "cell_type": "markdown",
   "metadata": {},
   "source": [
    "### Odds Reformatting"
   ]
  },
  {
   "cell_type": "markdown",
   "metadata": {},
   "source": [
    "> **NOTE:** The following section is solely for demonstration purposes of how to leverage included odds values to improve upon these indicators to build the best model possible. In our challenge implementation, we will be trying to outperform oddsmakers using other predictors. Technically speaking however, we can achieve a more accurate model by following the included reformatting of odds values as another predictor."
   ]
  },
  {
   "cell_type": "markdown",
   "metadata": {},
   "source": [
    "In addition to the completed changes, we could benefit from reformatting our odds values to be probabilities (from 0 to 1) for clarity and baseline accuracy as a predictor.\n",
    "\n",
    "Moneyline odds (the provided format in the dataset) represent how much profit you will make on your bet. For example, if the odd is +150 and you bet $100 the total you could win is $250. Alternatively, a negative odd demonstrates how much you need to wager to win $100.\n",
    "\n",
    "This can easily be converted to probability values by applying the following calculations to our odds values:\n",
    "\n",
    "- For negative odds: Implied Probability = Odds / (Odds + 100) * 100 \n",
    "- For positive odds: Implied Probability = 100 / (Odds + 100) * 100"
   ]
  },
  {
   "cell_type": "code",
   "execution_count": 318,
   "metadata": {},
   "outputs": [
    {
     "data": {
      "text/html": [
       "<div>\n",
       "<style scoped>\n",
       "    .dataframe tbody tr th:only-of-type {\n",
       "        vertical-align: middle;\n",
       "    }\n",
       "\n",
       "    .dataframe tbody tr th {\n",
       "        vertical-align: top;\n",
       "    }\n",
       "\n",
       "    .dataframe thead th {\n",
       "        text-align: right;\n",
       "    }\n",
       "</style>\n",
       "<table border=\"1\" class=\"dataframe\">\n",
       "  <thead>\n",
       "    <tr style=\"text-align: right;\">\n",
       "      <th></th>\n",
       "      <th>RedOdds</th>\n",
       "      <th>BlueOdds</th>\n",
       "      <th>RedDecOdds</th>\n",
       "      <th>BlueDecOdds</th>\n",
       "      <th>RSubOdds</th>\n",
       "      <th>BSubOdds</th>\n",
       "      <th>RKOOdds</th>\n",
       "      <th>BKOOdds</th>\n",
       "    </tr>\n",
       "  </thead>\n",
       "  <tbody>\n",
       "    <tr>\n",
       "      <th>0</th>\n",
       "      <td>-250.0</td>\n",
       "      <td>215.0</td>\n",
       "      <td>300.0</td>\n",
       "      <td>800.0</td>\n",
       "      <td>150.0</td>\n",
       "      <td>2500.0</td>\n",
       "      <td>400.0</td>\n",
       "      <td>350.0</td>\n",
       "    </tr>\n",
       "    <tr>\n",
       "      <th>1</th>\n",
       "      <td>-210.0</td>\n",
       "      <td>295.0</td>\n",
       "      <td>250.0</td>\n",
       "      <td>650.0</td>\n",
       "      <td>180.0</td>\n",
       "      <td>3000.0</td>\n",
       "      <td>240.0</td>\n",
       "      <td>700.0</td>\n",
       "    </tr>\n",
       "    <tr>\n",
       "      <th>2</th>\n",
       "      <td>-380.0</td>\n",
       "      <td>300.0</td>\n",
       "      <td>-160.0</td>\n",
       "      <td>450.0</td>\n",
       "      <td>1100.0</td>\n",
       "      <td>3000.0</td>\n",
       "      <td>350.0</td>\n",
       "      <td>1100.0</td>\n",
       "    </tr>\n",
       "    <tr>\n",
       "      <th>3</th>\n",
       "      <td>-950.0</td>\n",
       "      <td>625.0</td>\n",
       "      <td>-200.0</td>\n",
       "      <td>1100.0</td>\n",
       "      <td>380.0</td>\n",
       "      <td>1400.0</td>\n",
       "      <td>500.0</td>\n",
       "      <td>4000.0</td>\n",
       "    </tr>\n",
       "    <tr>\n",
       "      <th>4</th>\n",
       "      <td>-130.0</td>\n",
       "      <td>110.0</td>\n",
       "      <td>275.0</td>\n",
       "      <td>550.0</td>\n",
       "      <td>500.0</td>\n",
       "      <td>700.0</td>\n",
       "      <td>300.0</td>\n",
       "      <td>250.0</td>\n",
       "    </tr>\n",
       "  </tbody>\n",
       "</table>\n",
       "</div>"
      ],
      "text/plain": [
       "   RedOdds  BlueOdds  RedDecOdds  BlueDecOdds  RSubOdds  BSubOdds  RKOOdds  \\\n",
       "0   -250.0     215.0       300.0        800.0     150.0    2500.0    400.0   \n",
       "1   -210.0     295.0       250.0        650.0     180.0    3000.0    240.0   \n",
       "2   -380.0     300.0      -160.0        450.0    1100.0    3000.0    350.0   \n",
       "3   -950.0     625.0      -200.0       1100.0     380.0    1400.0    500.0   \n",
       "4   -130.0     110.0       275.0        550.0     500.0     700.0    300.0   \n",
       "\n",
       "   BKOOdds  \n",
       "0    350.0  \n",
       "1    700.0  \n",
       "2   1100.0  \n",
       "3   4000.0  \n",
       "4    250.0  "
      ]
     },
     "execution_count": 318,
     "metadata": {},
     "output_type": "execute_result"
    }
   ],
   "source": [
    "# Exploring odds values of the dataset\n",
    "odds_columns = df.filter(like='Odds')\n",
    "odds_columns.head()"
   ]
  },
  {
   "cell_type": "markdown",
   "metadata": {},
   "source": [
    "Based on the above, we can see that there are 7 odds value columns that need to be converted. We can convert moneyline odds to **implied probability** using these formulas:\n",
    "\n",
    "$$\n",
    "\\text{Implied Probability} =\n",
    "\\begin{cases} \n",
    "\\frac{100}{\\text{Odds} + 100}, & \\text{if Odds > 0 (Underdog)} \\\\\n",
    "\\frac{-\\text{Odds}}{-\\text{Odds} + 100}, & \\text{if Odds < 0 (Favorite)}\n",
    "\\end{cases}\n",
    "$$"
   ]
  },
  {
   "cell_type": "code",
   "execution_count": 319,
   "metadata": {},
   "outputs": [
    {
     "data": {
      "text/html": [
       "<div>\n",
       "<style scoped>\n",
       "    .dataframe tbody tr th:only-of-type {\n",
       "        vertical-align: middle;\n",
       "    }\n",
       "\n",
       "    .dataframe tbody tr th {\n",
       "        vertical-align: top;\n",
       "    }\n",
       "\n",
       "    .dataframe thead th {\n",
       "        text-align: right;\n",
       "    }\n",
       "</style>\n",
       "<table border=\"1\" class=\"dataframe\">\n",
       "  <thead>\n",
       "    <tr style=\"text-align: right;\">\n",
       "      <th></th>\n",
       "      <th>RedOdds</th>\n",
       "      <th>BlueOdds</th>\n",
       "      <th>RedDecOdds</th>\n",
       "      <th>BlueDecOdds</th>\n",
       "      <th>RSubOdds</th>\n",
       "      <th>BSubOdds</th>\n",
       "      <th>RKOOdds</th>\n",
       "      <th>BKOOdds</th>\n",
       "    </tr>\n",
       "  </thead>\n",
       "  <tbody>\n",
       "    <tr>\n",
       "      <th>0</th>\n",
       "      <td>0.714286</td>\n",
       "      <td>0.317460</td>\n",
       "      <td>0.250000</td>\n",
       "      <td>0.111111</td>\n",
       "      <td>0.400000</td>\n",
       "      <td>0.038462</td>\n",
       "      <td>0.200000</td>\n",
       "      <td>0.222222</td>\n",
       "    </tr>\n",
       "    <tr>\n",
       "      <th>1</th>\n",
       "      <td>0.677419</td>\n",
       "      <td>0.253165</td>\n",
       "      <td>0.285714</td>\n",
       "      <td>0.133333</td>\n",
       "      <td>0.357143</td>\n",
       "      <td>0.032258</td>\n",
       "      <td>0.294118</td>\n",
       "      <td>0.125000</td>\n",
       "    </tr>\n",
       "    <tr>\n",
       "      <th>2</th>\n",
       "      <td>0.791667</td>\n",
       "      <td>0.250000</td>\n",
       "      <td>0.615385</td>\n",
       "      <td>0.181818</td>\n",
       "      <td>0.083333</td>\n",
       "      <td>0.032258</td>\n",
       "      <td>0.222222</td>\n",
       "      <td>0.083333</td>\n",
       "    </tr>\n",
       "    <tr>\n",
       "      <th>3</th>\n",
       "      <td>0.904762</td>\n",
       "      <td>0.137931</td>\n",
       "      <td>0.666667</td>\n",
       "      <td>0.083333</td>\n",
       "      <td>0.208333</td>\n",
       "      <td>0.066667</td>\n",
       "      <td>0.166667</td>\n",
       "      <td>0.024390</td>\n",
       "    </tr>\n",
       "    <tr>\n",
       "      <th>4</th>\n",
       "      <td>0.565217</td>\n",
       "      <td>0.476190</td>\n",
       "      <td>0.266667</td>\n",
       "      <td>0.153846</td>\n",
       "      <td>0.166667</td>\n",
       "      <td>0.125000</td>\n",
       "      <td>0.250000</td>\n",
       "      <td>0.285714</td>\n",
       "    </tr>\n",
       "  </tbody>\n",
       "</table>\n",
       "</div>"
      ],
      "text/plain": [
       "    RedOdds  BlueOdds  RedDecOdds  BlueDecOdds  RSubOdds  BSubOdds   RKOOdds  \\\n",
       "0  0.714286  0.317460    0.250000     0.111111  0.400000  0.038462  0.200000   \n",
       "1  0.677419  0.253165    0.285714     0.133333  0.357143  0.032258  0.294118   \n",
       "2  0.791667  0.250000    0.615385     0.181818  0.083333  0.032258  0.222222   \n",
       "3  0.904762  0.137931    0.666667     0.083333  0.208333  0.066667  0.166667   \n",
       "4  0.565217  0.476190    0.266667     0.153846  0.166667  0.125000  0.250000   \n",
       "\n",
       "    BKOOdds  \n",
       "0  0.222222  \n",
       "1  0.125000  \n",
       "2  0.083333  \n",
       "3  0.024390  \n",
       "4  0.285714  "
      ]
     },
     "execution_count": 319,
     "metadata": {},
     "output_type": "execute_result"
    }
   ],
   "source": [
    "def moneyline_to_prob(odds):\n",
    "    \"\"\"Convert American moneyline odds to implied probability.\"\"\"\n",
    "    if odds > 0:  \n",
    "        # Odds > 0 implies this fighter is the underdog\n",
    "        return 100 / (odds + 100)\n",
    "    elif odds < 0:  \n",
    "        # Odds < 0 implies this fighter is the favorite\n",
    "        return -odds / (-odds + 100)\n",
    "    else:\n",
    "        # In the case of NaN and other edge cases, count this as an even odds fight\n",
    "        return 0.5  \n",
    "\n",
    "# Select all columns that contain \"Odds\"\n",
    "odds_columns = df.filter(like=\"Odds\").columns\n",
    "\n",
    "# Apply conversion\n",
    "df[odds_columns] = df[odds_columns].applymap(moneyline_to_prob)\n",
    "\n",
    "# Exploring odds values again\n",
    "odds_columns = df.filter(like='Odds')\n",
    "odds_columns.head()"
   ]
  },
  {
   "cell_type": "markdown",
   "metadata": {},
   "source": [
    "With that, our odds values handling is reading for intuitive usage and evaluation. There is one big consideration left, which is to encode our categorical variables for later usage in our model. "
   ]
  },
  {
   "cell_type": "markdown",
   "metadata": {},
   "source": [
    "### Converting Time Values"
   ]
  },
  {
   "cell_type": "markdown",
   "metadata": {},
   "source": [
    "This one is pretty straightforward but important for cleanliness. We will ensure that the current format of timed matches (m:ss) is converted to seconds."
   ]
  },
  {
   "cell_type": "code",
   "execution_count": 320,
   "metadata": {},
   "outputs": [
    {
     "name": "stdout",
     "output_type": "stream",
     "text": [
      "Mean match time: 230.3333897731121\n"
     ]
    }
   ],
   "source": [
    "# Function to convert m:ss to seconds\n",
    "def convert_to_seconds(time_str):\n",
    "    # Check for valid strings in m:ss format\n",
    "    if isinstance(time_str, str) and ':' in time_str:\n",
    "        try:\n",
    "            # Applying our minute and second conversion using split\n",
    "            minutes, seconds = map(int, time_str.split(':')) \n",
    "            # Return total seconds the fight took\n",
    "            return minutes * 60 + seconds  \n",
    "        except ValueError:\n",
    "            # Return NaN for any invalid time formats\n",
    "            return float('nan')\n",
    "    # Return NaN if the entry is not a string\n",
    "    return float('nan')  \n",
    "\n",
    "# Apply the conversion function to the 'FinishRoundTime' column\n",
    "df['FinishRoundTime'] = df['FinishRoundTime'].apply(convert_to_seconds)\n",
    "\n",
    "# Ensure to cleanup after the NaNs that we created by filling them with the mean time\n",
    "print(f\"Mean match time: {df['FinishRoundTime'].mean()}\")\n",
    "df['FinishRoundTime'] = df['FinishRoundTime'].fillna(df['FinishRoundTime'].mean())"
   ]
  },
  {
   "cell_type": "markdown",
   "metadata": {},
   "source": [
    "### Encoding Categorical Variables"
   ]
  },
  {
   "cell_type": "markdown",
   "metadata": {},
   "source": [
    "As covered in the Udactiy Data Science Nanodegree program, there are two main options:\n",
    "\n",
    "1. One-Hot Encoding\n",
    "    - This approach works well for nominal data, i.e. data that has no inherent order\n",
    "    - This includes something like fighter stance (orthodox or southpaw), fight finish details, and more\n",
    "2. Label Encoding\n",
    "    - This approach works best for ordinal data, i.e. data that has a meaningful order that needs to be preserved\n",
    "    - Fighter ranking is a good example of ordinal data within this UFC dataset"
   ]
  },
  {
   "cell_type": "markdown",
   "metadata": {},
   "source": [
    "After further review of the metadata, I have decided upon the following selection to perform based on my experience and understanding of MMA fights:\n",
    "\n",
    "1. One-Hot Encoded Features\n",
    "    - Location\n",
    "    - Country\n",
    "    - TitleBout\n",
    "    - WeightClass\n",
    "    - Gender\n",
    "    - BlueStance / RedStance\n",
    "    - BetterRank\n",
    "    - Finish\n",
    "    - FinishDetails\n",
    "\n",
    "2. Label Encoded Features\n",
    "    - Rank\n",
    "    - FinishRound"
   ]
  },
  {
   "cell_type": "code",
   "execution_count": 321,
   "metadata": {},
   "outputs": [
    {
     "name": "stdout",
     "output_type": "stream",
     "text": [
      "Encoding Complete!\n"
     ]
    }
   ],
   "source": [
    "# Encoding our features\n",
    "\n",
    "# List of columns to one-hot encode\n",
    "one_hot_cols = ['Location', 'Country', 'TitleBout', 'WeightClass', 'Gender', \n",
    "                'BlueStance', 'RedStance', 'BetterRank', 'Finish', 'FinishDetails']\n",
    "\n",
    "# List of columns to label encode (ordinal categories) \n",
    "label_encode_cols = ['FinishRound']\n",
    "\n",
    "# Apply one-hot encoding\n",
    "df = pd.get_dummies(df, columns=one_hot_cols, drop_first=True)\n",
    "\n",
    "# Apply label encoding for ordinal categories\n",
    "label_encoders = {}\n",
    "\n",
    "for col in label_encode_cols:\n",
    "    le = LabelEncoder()\n",
    "    # Transform columns using label encoder\n",
    "    df[col] = le.fit_transform(df[col])\n",
    "    # Store encoder for inverse transformation if needed\n",
    "    label_encoders[col] = le\n",
    "\n",
    "print(\"Encoding Complete!\")"
   ]
  },
  {
   "cell_type": "code",
   "execution_count": 322,
   "metadata": {},
   "outputs": [
    {
     "data": {
      "image/png": "[encoded data removed]",
      "text/plain": [
       "<Figure size 432x288 with 1 Axes>"
      ]
     },
     "metadata": {
      "needs_background": "light"
     },
     "output_type": "display_data"
    }
   ],
   "source": [
    "# Reapplying our numeric features\n",
    "numeric_df = df.select_dtypes(include=['number'])\n",
    "adjusted_winner_correlation = numeric_df.corr()['Winner'].sort_values(ascending=False)\n",
    "\n",
    "# Plot the correlation in descending order\n",
    "sns.barplot(x=adjusted_winner_correlation.drop('Winner').head(10).index, y=adjusted_winner_correlation.drop('Winner').head(10).values, palette='rocket')\n",
    "plt.title('Descending Count of Category Column')\n",
    "plt.xlabel('Category')\n",
    "plt.ylabel('Count')\n",
    "plt.xticks(rotation=45)\n",
    "plt.show()"
   ]
  },
  {
   "cell_type": "markdown",
   "metadata": {},
   "source": [
    "### Baseline Odds Accuracy\n",
    "\n",
    "Before model implementation, lets fetch a baseline accuracy reading of the provided odds. We will do this by using the provided odds to create a new column: 'Favorite' and compare its values against the real fight winner."
   ]
  },
  {
   "cell_type": "code",
   "execution_count": 323,
   "metadata": {},
   "outputs": [
    {
     "name": "stdout",
     "output_type": "stream",
     "text": [
      "Oddsmakers were right 42.0% of the time.\n"
     ]
    }
   ],
   "source": [
    "# Remove remaining nulls that will interrupt our classificaiton\n",
    "df = df.dropna()\n",
    "\n",
    "# Function to classify red or blue favorite \n",
    "def classify_favorite(red_odds):\n",
    "    return 0 if float(red_odds) < 0 else 1\n",
    "\n",
    "# Apply function to create a new column\n",
    "df['Favorite'] = df['RedOdds'].apply(classify_favorite)\n",
    "accuracy = accuracy_score(df['Favorite'], df['Winner'])\n",
    "\n",
    "# Format the accuracy to 2 decimal places\n",
    "formatted_accuracy = round(accuracy, 2)\n",
    "\n",
    "# Prepare the readable output\n",
    "print(f\"Oddsmakers were right {formatted_accuracy * 100}% of the time.\")"
   ]
  },
  {
   "cell_type": "markdown",
   "metadata": {},
   "source": [
    "Not super great results for our odds makers. This is perfectly normal though, as the MMA game is unpredictable! This means that the number we are trying to beat is 42% for the accuracy of our model."
   ]
  },
  {
   "cell_type": "markdown",
   "metadata": {},
   "source": [
    "## Model Implementation"
   ]
  },
  {
   "cell_type": "code",
   "execution_count": 324,
   "metadata": {},
   "outputs": [],
   "source": [
    "# Some final cleanup \n",
    "df = df.drop(columns = ['RedFighter', 'BlueFighter', 'Date'])\n",
    "\n",
    "# Bonus challenge! Run below command to view model results WITHOUT provided odds!\n",
    "df = df.drop(columns = list(odds_columns) + ['RedExpectedValue', 'BlueExpectedValue'])"
   ]
  },
  {
   "cell_type": "markdown",
   "metadata": {},
   "source": [
    "### Split Train and Test Data"
   ]
  },
  {
   "cell_type": "code",
   "execution_count": 325,
   "metadata": {},
   "outputs": [
    {
     "name": "stdout",
     "output_type": "stream",
     "text": [
      "Training set: (2761, 347)\n",
      "Test set: (691, 347)\n"
     ]
    }
   ],
   "source": [
    "# Define features and target\n",
    "X = df.drop(columns=[\"Winner\"])  # Features\n",
    "y = df[\"Winner\"]  # Target variable\n",
    "\n",
    "# Split into train (80%) and test (20%)\n",
    "X_train, X_test, y_train, y_test = train_test_split(X, y, test_size=0.2, random_state=42, stratify=y)\n",
    "\n",
    "print(f\"Training set: {X_train.shape}\")\n",
    "print(f\"Test set: {X_test.shape}\")"
   ]
  },
  {
   "cell_type": "markdown",
   "metadata": {},
   "source": [
    "### Learning Curve"
   ]
  },
  {
   "cell_type": "code",
   "execution_count": 326,
   "metadata": {},
   "outputs": [
    {
     "data": {
      "image/png": "[encoded data removed]",
      "text/plain": [
       "<Figure size 720x432 with 1 Axes>"
      ]
     },
     "metadata": {
      "needs_background": "light"
     },
     "output_type": "display_data"
    }
   ],
   "source": [
    "# Intantiate our model\n",
    "rf = RandomForestClassifier(n_estimators=100, random_state=42)\n",
    "\n",
    "# Calculate learning curve\n",
    "train_sizes, train_scores, test_scores = learning_curve(rf, X_train, y_train, cv=5)\n",
    "\n",
    "# Plot the learning curve\n",
    "plt.figure(figsize=(10, 6))\n",
    "plt.plot(train_sizes, test_scores.mean(axis=1), label='Model Validation Score', color='blue')\n",
    "plt.axhline(y=0.42, linestyle='--', label='Oddsmakers Accuracy Score', color='red')\n",
    "plt.xlabel('Training Size')\n",
    "plt.ylabel('Score')\n",
    "plt.title('Learning Curve for Random Forest')\n",
    "plt.ylim(0.3, max(test_scores.mean(axis=1))*1.2) \n",
    "plt.legend()\n",
    "plt.show()"
   ]
  },
  {
   "cell_type": "markdown",
   "metadata": {},
   "source": [
    "### Model Training"
   ]
  },
  {
   "cell_type": "code",
   "execution_count": 327,
   "metadata": {},
   "outputs": [
    {
     "data": {
      "text/plain": [
       "RandomForestClassifier(random_state=42)"
      ]
     },
     "execution_count": 327,
     "metadata": {},
     "output_type": "execute_result"
    }
   ],
   "source": [
    "# Fitting our instantiated model using our train data\n",
    "rf.fit(X_train, y_train)"
   ]
  },
  {
   "cell_type": "markdown",
   "metadata": {},
   "source": [
    "### Hyperparameter Tuning"
   ]
  },
  {
   "cell_type": "code",
   "execution_count": 328,
   "metadata": {},
   "outputs": [
    {
     "data": {
      "text/plain": [
       "GridSearchCV(cv=5, estimator=RandomForestClassifier(),\n",
       "             param_grid={'max_depth': [None, 10, 20],\n",
       "                         'min_samples_leaf': [1, 2, 4],\n",
       "                         'min_samples_split': [2, 5, 10],\n",
       "                         'n_estimators': [50, 100, 200]})"
      ]
     },
     "execution_count": 328,
     "metadata": {},
     "output_type": "execute_result"
    }
   ],
   "source": [
    "# Define parameter grid for hyperparameter tuning\n",
    "param_grid = {\n",
    "    \"n_estimators\": [50, 100, 200],\n",
    "    \"max_depth\": [None, 10, 20],\n",
    "    \"min_samples_split\": [2, 5, 10],\n",
    "    \"min_samples_leaf\": [1, 2, 4]\n",
    "}\n",
    "\n",
    "# Run grid search\n",
    "grid_search = GridSearchCV(RandomForestClassifier(), param_grid, cv=5)\n",
    "grid_search.fit(X_train, y_train)"
   ]
  },
  {
   "cell_type": "markdown",
   "metadata": {},
   "source": [
    "## Model Evaluation"
   ]
  },
  {
   "cell_type": "markdown",
   "metadata": {},
   "source": [
    "### Best Parameters and Score"
   ]
  },
  {
   "cell_type": "code",
   "execution_count": 329,
   "metadata": {},
   "outputs": [
    {
     "name": "stdout",
     "output_type": "stream",
     "text": [
      "Best parameters: {'max_depth': None, 'min_samples_leaf': 4, 'min_samples_split': 2, 'n_estimators': 200}\n",
      "Best Score (Cross-Validation) 0.6193378672327489\n"
     ]
    }
   ],
   "source": [
    "# Calculating our best parameters throught he grid search along with the best score\n",
    "print(\"Best parameters:\", grid_search.best_params_)\n",
    "print(\"Best Score (Cross-Validation)\", grid_search.best_score_)"
   ]
  },
  {
   "cell_type": "markdown",
   "metadata": {},
   "source": [
    "### Making Predictions"
   ]
  },
  {
   "cell_type": "code",
   "execution_count": 330,
   "metadata": {},
   "outputs": [
    {
     "name": "stdout",
     "output_type": "stream",
     "text": [
      "✅ Test Accuracy: 0.6223\n",
      "              precision    recall  f1-score   support\n",
      "\n",
      "           0       0.62      0.87      0.73       399\n",
      "           1       0.61      0.28      0.39       292\n",
      "\n",
      "    accuracy                           0.62       691\n",
      "   macro avg       0.62      0.58      0.56       691\n",
      "weighted avg       0.62      0.62      0.58       691\n",
      "\n",
      "Confusion Matrix:\n",
      "[[347  52]\n",
      " [209  83]]\n"
     ]
    }
   ],
   "source": [
    "# Predict on test data\n",
    "y_pred = grid_search.best_estimator_.predict(X_test)\n",
    "\n",
    "# Model Performance\n",
    "accuracy = accuracy_score(y_test, y_pred)\n",
    "print(f\"✅ Test Accuracy: {accuracy:.4f}\")\n",
    "\n",
    "# Detailed Classification Report\n",
    "print(classification_report(y_test, y_pred))\n",
    "\n",
    "# Confusion Matrix\n",
    "print(\"Confusion Matrix:\")\n",
    "print(confusion_matrix(y_test, y_pred))"
   ]
  },
  {
   "cell_type": "markdown",
   "metadata": {},
   "source": [
    "### Finding Important Features"
   ]
  },
  {
   "cell_type": "code",
   "execution_count": 331,
   "metadata": {},
   "outputs": [
    {
     "name": "stdout",
     "output_type": "stream",
     "text": [
      "                Feature  Importance\n",
      "58               AgeDif    0.035883\n",
      "61             AvgTDDif    0.029656\n",
      "4   BlueAvgSigStrLanded    0.029100\n",
      "26   RedAvgSigStrLanded    0.028617\n",
      "59            SigStrDif    0.028516\n"
     ]
    }
   ],
   "source": [
    "# Get feature importances from the best model\n",
    "importances = grid_search.best_estimator_.feature_importances_\n",
    "feature_importance_df = pd.DataFrame({\"Feature\": X_train.columns, \"Importance\": importances})\n",
    "feature_importance_df = feature_importance_df.sort_values(by=\"Importance\", ascending=False)\n",
    "\n",
    "# Display top 10 important features\n",
    "print(feature_importance_df.head(5))"
   ]
  },
  {
   "cell_type": "markdown",
   "metadata": {},
   "source": [
    "# Results"
   ]
  },
  {
   "cell_type": "markdown",
   "metadata": {},
   "source": [
    "Drumroll please ... "
   ]
  },
  {
   "cell_type": "markdown",
   "metadata": {},
   "source": [
    "### 🥇 Best Model Results\n",
    "- Best Parameters: {'max_depth': 20, 'min_samples_leaf': 4, 'min_samples_split': 2, 'n_estimators': 200}\n",
    "- Cross-Validation Score: 62% Accuracy Score\n",
    "- Test Set Performance: 63% Accuracy on Test Set"
   ]
  },
  {
   "cell_type": "markdown",
   "metadata": {},
   "source": [
    "## 🔍 Key Insights\n",
    "- The top features in this model are the following (in order):\n",
    "  1. The difference in age between the fighters\n",
    "  2. The difference in significant strikes landed between fighters\n",
    "  3. The average significant strikes for each fighter\n",
    "  4. The average difference in takedowns between fighters"
   ]
  },
  {
   "cell_type": "markdown",
   "metadata": {},
   "source": [
    "## 🐾 Next Steps\n",
    "- This is the first iteration of this project and I can immediately think of many ways that the model I have built can be used and improved. What immediately comes to mind is the companion CSV file that was provided with this dataset - upcoming.csv. This file contains a list of set up fights including December 2024, a month that has already past. This means we can use the model against real data and evaluate the results against the fights that ended up occurring (if they were not canceled) which would be a real test of the usability of this model and others like it.\n",
    "\n",
    "- In terms of improvements, there are many that have come to my mind as well, such as \"Home Court Advantage\" - exploring the correlation of when a fighter is fighting in their city / country versus travelling abroad to compete.\n",
    "\n",
    "- Another correlation I believe is worth comparing is the correlation between being in the red corner / wearing red jersies or fight equipment and winning. This is a concept I had first heard about in Brazilian Jiu Jitsu, and I was impressed to find that about 60% of all victors in this dataset were from the red corner, which is definitely a significant gap and a potential contributor."
   ]
  }
 ],
 "metadata": {
  "kernelspec": {
   "display_name": "base",
   "language": "python",
   "name": "python3"
  },
  "language_info": {
   "codemirror_mode": {
    "name": "ipython",
    "version": 3
   },
   "file_extension": ".py",
   "mimetype": "text/x-python",
   "name": "python",
   "nbconvert_exporter": "python",
   "pygments_lexer": "ipython3",
   "version": "3.8.3"
  }
 },
 "nbformat": 4,
 "nbformat_minor": 2
}
