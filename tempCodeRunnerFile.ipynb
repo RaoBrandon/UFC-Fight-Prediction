print("Best parameters:", grid_search.best_params_)
print("Best Score (Cross-Validation)", grid_search.best_score_)